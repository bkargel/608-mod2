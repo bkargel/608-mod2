{
 "cells": [
  {
   "cell_type": "markdown",
   "id": "e977c8ca-b7a9-4510-a66f-1bfa9493c921",
   "metadata": {},
   "source": [
    "CONTROL STATEMENTS AND PROGRAM DEVELOPMENT"
   ]
  },
  {
   "cell_type": "markdown",
   "id": "8fa15771-a99f-4440-a45b-806365947836",
   "metadata": {},
   "source": [
    "3.3 Self Check Pseudocode"
   ]
  },
  {
   "cell_type": "code",
   "execution_count": 1,
   "id": "f50cd684-edc5-494c-af2b-84bc85179881",
   "metadata": {},
   "outputs": [
    {
     "name": "stdin",
     "output_type": "stream",
     "text": [
      "Enter first integer:  10\n",
      "Enter second integer:  5\n"
     ]
    },
    {
     "name": "stdout",
     "output_type": "stream",
     "text": [
      "The sum of 10 and 5 is 15\n"
     ]
    }
   ],
   "source": [
    "#Python Statements to replace pseudocode\n",
    "number1 = int(input('Enter first integer: '))\n",
    "\n",
    "number2 = int(input('Enter second integer: '))\n",
    "\n",
    "total = number1 + number2\n",
    "print('The sum of', number1, 'and', number2, 'is', total)"
   ]
  },
  {
   "cell_type": "markdown",
   "id": "5734afd1-3ceb-49b3-820c-2b500589cfcf",
   "metadata": {},
   "source": [
    "3.5 Self Check: if Statement "
   ]
  },
  {
   "cell_type": "code",
   "execution_count": 2,
   "id": "c4d27022-18cd-414e-bd63-eb8d6b9953b7",
   "metadata": {},
   "outputs": [
    {
     "name": "stdout",
     "output_type": "stream",
     "text": [
      "Passed\n"
     ]
    }
   ],
   "source": [
    "#Practicing suite indentation with if Statement\n",
    "grade = 85\n",
    "\n",
    "if grade >= 60:\n",
    "    print('Passed')"
   ]
  },
  {
   "cell_type": "code",
   "execution_count": 3,
   "id": "8e982f29-14b4-45ad-a805-81dff8b38a74",
   "metadata": {},
   "outputs": [],
   "source": [
    "#Changing grade to get different result\n",
    "grade = 55\n",
    "\n",
    "if grade >= 60:\n",
    "    print('Passed')"
   ]
  },
  {
   "cell_type": "markdown",
   "id": "258cceb7-e6e9-4bc1-bd6d-ac2a7680d4a3",
   "metadata": {},
   "source": [
    "3.6 if...else and if...elif...else Statements"
   ]
  },
  {
   "cell_type": "code",
   "execution_count": 4,
   "id": "a1889870-1076-40b3-b8aa-4fa943e03b7f",
   "metadata": {},
   "outputs": [
    {
     "name": "stdout",
     "output_type": "stream",
     "text": [
      "Passed\n"
     ]
    }
   ],
   "source": [
    "#if...else Statement\n",
    "grade = 99\n",
    "\n",
    "if grade >= 60:\n",
    "    print('Passed')\n",
    "else:\n",
    "    print('Failed')"
   ]
  },
  {
   "cell_type": "code",
   "execution_count": 5,
   "id": "c95081b5-d5b8-4556-a006-d12b02415939",
   "metadata": {},
   "outputs": [
    {
     "data": {
      "text/plain": [
       "'Passed'"
      ]
     },
     "execution_count": 5,
     "metadata": {},
     "output_type": "execute_result"
    }
   ],
   "source": [
    "#Using conditional expressions\n",
    "grade = 87\n",
    "\n",
    "if grade >= 60:\n",
    "    result = 'Passed'\n",
    "else:\n",
    "    result = 'Failed'\n",
    "    \n",
    "result"
   ]
  },
  {
   "cell_type": "code",
   "execution_count": 6,
   "id": "a1dc26b5-0a8d-4f8b-ae2d-9ebc78f80492",
   "metadata": {},
   "outputs": [
    {
     "data": {
      "text/plain": [
       "'Passed'"
      ]
     },
     "execution_count": 6,
     "metadata": {},
     "output_type": "execute_result"
    }
   ],
   "source": [
    "#Same thing using concise conditional expression\n",
    "grade = 62\n",
    "\n",
    "result = ('Passed' if grade >= 60 else 'Failed')\n",
    "\n",
    "result"
   ]
  },
  {
   "cell_type": "code",
   "execution_count": 7,
   "id": "eca1883f-7314-4337-b79f-459e2a0fdbc9",
   "metadata": {},
   "outputs": [
    {
     "data": {
      "text/plain": [
       "'Passed'"
      ]
     },
     "execution_count": 7,
     "metadata": {},
     "output_type": "execute_result"
    }
   ],
   "source": [
    "#Interactive mode evaluating the conditional expression directly\n",
    "'Passed' if grade >= 60 else 'Failed'"
   ]
  },
  {
   "cell_type": "code",
   "execution_count": 8,
   "id": "4ef5e9c4-9e30-4be4-ac2b-15a1f881b4ef",
   "metadata": {},
   "outputs": [
    {
     "name": "stdout",
     "output_type": "stream",
     "text": [
      "C\n"
     ]
    }
   ],
   "source": [
    "#Using if...elif...else Statement\n",
    "grade = 77\n",
    "\n",
    "if grade >= 90:\n",
    "    print('A')\n",
    "elif grade >= 80:\n",
    "    print('B')\n",
    "elif grade >= 70:\n",
    "    print('C')\n",
    "elif grade >= 60:\n",
    "    print('D')\n",
    "else:\n",
    "    print('F')"
   ]
  },
  {
   "cell_type": "markdown",
   "id": "b68af53b-9054-4aff-878e-166add96f616",
   "metadata": {},
   "source": [
    "3.7 while Statement"
   ]
  },
  {
   "cell_type": "code",
   "execution_count": 9,
   "id": "21321fbb-7a23-40b5-8352-1a3e97e86710",
   "metadata": {},
   "outputs": [
    {
     "data": {
      "text/plain": [
       "2401"
      ]
     },
     "execution_count": 9,
     "metadata": {},
     "output_type": "execute_result"
    }
   ],
   "source": [
    "#Find the first power of 7 greater than 1000\n",
    "product = 7\n",
    "\n",
    "while product <= 1000:\n",
    "    product = product * 7\n",
    "    \n",
    "product"
   ]
  },
  {
   "cell_type": "markdown",
   "id": "5e0259ad-0023-44ab-abe5-0b3ac82267c4",
   "metadata": {},
   "source": [
    "3.8 for Statement"
   ]
  },
  {
   "cell_type": "code",
   "execution_count": 10,
   "id": "64bdd8e5-63a0-4b44-828b-584dfaaf72bc",
   "metadata": {},
   "outputs": [
    {
     "name": "stdout",
     "output_type": "stream",
     "text": [
      "P  r  o  g  r  a  m  m  i  n  g  "
     ]
    }
   ],
   "source": [
    "#Display \"Programming\" with its characters separated by two spaces\n",
    "\n",
    "for character in 'Programming':\n",
    "    print(character, end='  ')"
   ]
  },
  {
   "cell_type": "code",
   "execution_count": 11,
   "id": "e64685f4-78a9-47a8-ad6d-a1c92b449423",
   "metadata": {},
   "outputs": [
    {
     "data": {
      "text/plain": [
       "25"
      ]
     },
     "execution_count": 11,
     "metadata": {},
     "output_type": "execute_result"
    }
   ],
   "source": [
    "#Totaling five integers in a list\n",
    "total = 0\n",
    "\n",
    "for number in [2, -3, 0, 17, 9]:\n",
    "    total = total + number\n",
    "    \n",
    "total"
   ]
  },
  {
   "cell_type": "code",
   "execution_count": 12,
   "id": "772a7d10-7040-45ef-9edf-d9ba1f5e44c3",
   "metadata": {},
   "outputs": [
    {
     "name": "stdout",
     "output_type": "stream",
     "text": [
      "0 1 2 3 4 5 6 7 8 9 "
     ]
    }
   ],
   "source": [
    "#Iterate 10 times, displaying the values from 0 to 9\n",
    "for counter in range(10):\n",
    "    print(counter, end=' ')"
   ]
  },
  {
   "cell_type": "code",
   "execution_count": 13,
   "id": "31913212-5f8a-4403-84b1-cf1f53c3be3b",
   "metadata": {},
   "outputs": [
    {
     "data": {
      "text/plain": [
       "50000005000000"
      ]
     },
     "execution_count": 13,
     "metadata": {},
     "output_type": "execute_result"
    }
   ],
   "source": [
    "#3.8 Self Check\n",
    "#Calculate the total of the integers from 0 through 1,000,000\n",
    "\n",
    "total = 0\n",
    "\n",
    "for number in range(10000001):\n",
    "    total = total + number\n",
    "    \n",
    "total"
   ]
  },
  {
   "cell_type": "markdown",
   "id": "e1abd0a4-8976-4a00-99de-6bcd8e4dda6c",
   "metadata": {},
   "source": [
    "3.9 Augmented Assignments"
   ]
  },
  {
   "cell_type": "code",
   "execution_count": 14,
   "id": "37a8e23d-2b43-423c-aad8-1dcbf83473d0",
   "metadata": {},
   "outputs": [
    {
     "data": {
      "text/plain": [
       "15"
      ]
     },
     "execution_count": 14,
     "metadata": {},
     "output_type": "execute_result"
    }
   ],
   "source": [
    "#Using augmented assignment statement in place of total = total + number\n",
    "total = 0\n",
    "\n",
    "for number in [1, 2, 3, 4, 5,]:\n",
    "    total += number\n",
    "    \n",
    "total"
   ]
  },
  {
   "cell_type": "code",
   "execution_count": 15,
   "id": "93bc2894-61ef-4adf-9264-5b21705a879d",
   "metadata": {},
   "outputs": [
    {
     "data": {
      "text/plain": [
       "144"
      ]
     },
     "execution_count": 15,
     "metadata": {},
     "output_type": "execute_result"
    }
   ],
   "source": [
    "#3.9 Self Check\n",
    "#Create a variable x with the value 12. Use an exponentiation augmented assignment satement to square x's value\n",
    "\n",
    "x = 12\n",
    "\n",
    "x **= 2\n",
    "\n",
    "x"
   ]
  },
  {
   "cell_type": "markdown",
   "id": "4c42f467-b2cb-4624-918a-9459df8a6159",
   "metadata": {},
   "source": [
    "3.10 Program Development: Sequence-Controlled Repetition"
   ]
  },
  {
   "cell_type": "code",
   "execution_count": 16,
   "id": "f47de1a4-5e37-4384-a25c-c628a461ea0f",
   "metadata": {},
   "outputs": [
    {
     "name": "stdout",
     "output_type": "stream",
     "text": [
      "7 times 5 is 35\n"
     ]
    }
   ],
   "source": [
    "#3.10 Self Check\n",
    "#Display an f-string in which you insert the values of the variables number1 (7) and number2 (5) and their product\n",
    "number1 = 7\n",
    "\n",
    "number2 = 5\n",
    "\n",
    "print(f'{number1} times {number2} is {number1 * number2}')"
   ]
  },
  {
   "cell_type": "markdown",
   "id": "8c375042-2398-4a87-90ad-5e61ae7709b4",
   "metadata": {},
   "source": [
    "3.13 Built-In Function range: A Deeper Look"
   ]
  },
  {
   "cell_type": "code",
   "execution_count": 17,
   "id": "f4b485de-04d8-4978-937e-3461ed7fe58d",
   "metadata": {},
   "outputs": [
    {
     "name": "stdout",
     "output_type": "stream",
     "text": [
      "5 6 7 8 9 "
     ]
    }
   ],
   "source": [
    "#two-argument version produces a sequence of consecutive integers from its first argument's value up\n",
    "#to, but not including, the second argument's value\n",
    "\n",
    "for number in range(5, 10):\n",
    "    print(number, end=' ')"
   ]
  },
  {
   "cell_type": "code",
   "execution_count": 18,
   "id": "70d7daab-7cc4-4fc8-88b1-a2e8f8d86929",
   "metadata": {},
   "outputs": [
    {
     "name": "stdout",
     "output_type": "stream",
     "text": [
      "0 2 4 6 8 "
     ]
    }
   ],
   "source": [
    "#three-argument version produces a sequence of integers from its first argument's value down to, \n",
    "#but not including, the second argument's value, incrementing by the third argument's value\n",
    "\n",
    "for number in range(0, 10, 2):\n",
    "    print(number, end=' ')"
   ]
  },
  {
   "cell_type": "code",
   "execution_count": 19,
   "id": "2464aa57-f4a4-4d13-bea8-1a4457d5d380",
   "metadata": {},
   "outputs": [
    {
     "name": "stdout",
     "output_type": "stream",
     "text": [
      "10 8 6 4 2 "
     ]
    }
   ],
   "source": [
    "#if the third argument is negative, the sequence progresses from the first argument's value down to,\n",
    "#but not including the second argument's value, incrementing by the third argument's value\n",
    "\n",
    "for number in range(10, 0 ,-2):\n",
    "    print(number, end=' ')"
   ]
  },
  {
   "cell_type": "code",
   "execution_count": 20,
   "id": "7b3125fb-fafd-470f-8bf7-67df81b47592",
   "metadata": {},
   "outputs": [
    {
     "name": "stdout",
     "output_type": "stream",
     "text": [
      "99 88 77 66 55 44 33 22 11 0 "
     ]
    }
   ],
   "source": [
    "#3.13 Self Check: Use a for statement, range and print to display n one line sequence of values\n",
    "# 99 88 77 66 55 44 33 22 11 0, each separated by one space\n",
    "\n",
    "for number in range(99, -1, -11):\n",
    "    print(number, end=' ')"
   ]
  },
  {
   "cell_type": "code",
   "execution_count": 21,
   "id": "07187889-2800-4a8f-b8bb-aac3f7cf7aea",
   "metadata": {},
   "outputs": [
    {
     "data": {
      "text/plain": [
       "2550"
      ]
     },
     "execution_count": 21,
     "metadata": {},
     "output_type": "execute_result"
    }
   ],
   "source": [
    "#3.13 Self Check: Use a for and range to sum the even integers from 2 through 100, then display the sum\n",
    "\n",
    "total = 0\n",
    "\n",
    "for number in range(2, 101, 2):\n",
    "    total += number\n",
    "\n",
    "total"
   ]
  },
  {
   "cell_type": "markdown",
   "id": "36551efb-99ba-4864-8013-89696df0c7e8",
   "metadata": {},
   "source": [
    "3.14 Using Type Decimal for Monetary Amounts"
   ]
  },
  {
   "cell_type": "code",
   "execution_count": 22,
   "id": "e4fe370c-6316-4414-b811-68e1b1e81d4f",
   "metadata": {},
   "outputs": [
    {
     "data": {
      "text/plain": [
       "Decimal('1000.00')"
      ]
     },
     "execution_count": 22,
     "metadata": {},
     "output_type": "execute_result"
    }
   ],
   "source": [
    "from decimal import Decimal\n",
    "\n",
    "principal = Decimal('1000.00')\n",
    "\n",
    "principal"
   ]
  },
  {
   "cell_type": "code",
   "execution_count": 23,
   "id": "939d0730-6a72-494d-89c6-95209c723984",
   "metadata": {},
   "outputs": [
    {
     "data": {
      "text/plain": [
       "Decimal('0.05')"
      ]
     },
     "execution_count": 23,
     "metadata": {},
     "output_type": "execute_result"
    }
   ],
   "source": [
    "rate = Decimal('0.05')\n",
    "\n",
    "rate"
   ]
  },
  {
   "cell_type": "code",
   "execution_count": 24,
   "id": "6fefe680-df26-4940-a92a-782e641814f8",
   "metadata": {},
   "outputs": [
    {
     "data": {
      "text/plain": [
       "Decimal('12.5')"
      ]
     },
     "execution_count": 24,
     "metadata": {},
     "output_type": "execute_result"
    }
   ],
   "source": [
    "#More decimals\n",
    "x = Decimal('10.5')\n",
    "\n",
    "y = Decimal('2')\n",
    "\n",
    "x + y"
   ]
  },
  {
   "cell_type": "code",
   "execution_count": 25,
   "id": "9026e802-d002-464b-b3cd-3ed214d4060a",
   "metadata": {},
   "outputs": [
    {
     "data": {
      "text/plain": [
       "Decimal('5')"
      ]
     },
     "execution_count": 25,
     "metadata": {},
     "output_type": "execute_result"
    }
   ],
   "source": [
    "x // y"
   ]
  },
  {
   "cell_type": "code",
   "execution_count": 26,
   "id": "3fdedac6-4a70-40e2-9dcf-3b45e516a9bf",
   "metadata": {},
   "outputs": [],
   "source": [
    "x += y"
   ]
  },
  {
   "cell_type": "code",
   "execution_count": 27,
   "id": "73e2c92e-414b-418e-b003-e9ca887812c8",
   "metadata": {},
   "outputs": [
    {
     "data": {
      "text/plain": [
       "Decimal('12.5')"
      ]
     },
     "execution_count": 27,
     "metadata": {},
     "output_type": "execute_result"
    }
   ],
   "source": [
    "x"
   ]
  },
  {
   "cell_type": "markdown",
   "id": "3d5cab03-aec5-4c9d-af65-8598d1f7782b",
   "metadata": {},
   "source": [
    "3.15 break and continue Statements"
   ]
  },
  {
   "cell_type": "code",
   "execution_count": 28,
   "id": "98382774-a368-4c3b-9629-6a4a332ef535",
   "metadata": {},
   "outputs": [
    {
     "name": "stdout",
     "output_type": "stream",
     "text": [
      "0 1 2 3 4 5 6 7 8 9 "
     ]
    }
   ],
   "source": [
    "#In the following code, range produces the integer sequence 0-99, but the loop terminates when the number is 10:\n",
    "\n",
    "for number in range(100):\n",
    "    if number == 10:\n",
    "        break\n",
    "    print(number, end=' ')"
   ]
  },
  {
   "cell_type": "code",
   "execution_count": 29,
   "id": "fade848e-ceab-418d-9299-bee1e31ae609",
   "metadata": {},
   "outputs": [
    {
     "name": "stdout",
     "output_type": "stream",
     "text": [
      "0 1 2 3 4 6 7 8 9 "
     ]
    }
   ],
   "source": [
    "#In a for, the loop processes the next item in the sequence (if any):\n",
    "\n",
    "for number in range(10):\n",
    "    if number == 5:\n",
    "        continue\n",
    "    print(number, end=' ')"
   ]
  },
  {
   "cell_type": "code",
   "execution_count": 30,
   "id": "d4801b6f-42ab-464c-98fe-35341769fbb2",
   "metadata": {},
   "outputs": [
    {
     "name": "stdout",
     "output_type": "stream",
     "text": [
      "0 2 4 6 8 10 12 14 16 18 20 22 24 26 28 30 32 34 "
     ]
    }
   ],
   "source": [
    "#practice\n",
    "\n",
    "for number in range(0, 101, 2):\n",
    "    if number == 36:\n",
    "        break\n",
    "    print(number, end=' ')"
   ]
  },
  {
   "cell_type": "markdown",
   "id": "6ea9d0a3-ea1a-43e1-ad03-cd5f39e28a4e",
   "metadata": {},
   "source": [
    "3.16 Boolean Operators and, or and not"
   ]
  },
  {
   "cell_type": "code",
   "execution_count": 31,
   "id": "41ed2c2f-d276-4446-9da2-fe8a5c3a7706",
   "metadata": {},
   "outputs": [
    {
     "name": "stdout",
     "output_type": "stream",
     "text": [
      "Senior female\n"
     ]
    }
   ],
   "source": [
    "#Boolean Operator and\n",
    "#if either (or both) of the simple conditions is False, the entire expression is False\n",
    "\n",
    "gender = 'Female'\n",
    "age = 70\n",
    "\n",
    "if gender == 'Female' and age >= 65:\n",
    "    print('Senior female')"
   ]
  },
  {
   "cell_type": "code",
   "execution_count": 32,
   "id": "f7983d49-697a-4a47-b9c3-4798c6832bf8",
   "metadata": {},
   "outputs": [
    {
     "name": "stdout",
     "output_type": "stream",
     "text": [
      "Student gets an A\n"
     ]
    }
   ],
   "source": [
    "#Boolean Operator or\n",
    "#The entire condition is False only if both simple conditions are False\n",
    "\n",
    "semester_average = 83\n",
    "\n",
    "final_exam = 95\n",
    "\n",
    "if semester_average >= 90 or final_exam >= 90:\n",
    "    print('Student gets an A')"
   ]
  },
  {
   "cell_type": "code",
   "execution_count": 33,
   "id": "4099b392-c700-4fe0-b85c-8764faa5828a",
   "metadata": {},
   "outputs": [
    {
     "name": "stdout",
     "output_type": "stream",
     "text": [
      "The next grade is 87\n"
     ]
    }
   ],
   "source": [
    "#Boolean Operator not\n",
    "#The Boolean not Operator \"reverses\" the meaning of a condition - True becomes False and False becomes True\n",
    "\n",
    "grade = 87\n",
    "\n",
    "if not grade == -1:\n",
    "    print('The next grade is', grade)"
   ]
  },
  {
   "cell_type": "code",
   "execution_count": 34,
   "id": "245ffe19-39cc-4fb1-b252-b0ae4452e176",
   "metadata": {},
   "outputs": [
    {
     "data": {
      "text/plain": [
       "True"
      ]
     },
     "execution_count": 34,
     "metadata": {},
     "output_type": "execute_result"
    }
   ],
   "source": [
    "#3.16 Self Check\n",
    "#Assume that i = 1, j = 2, k = 3, and m = 2. What does each of the following conditions display:\n",
    "# a) (i >= 1) and (j < 4)\n",
    "# b) (m <= 99) and (k < m)\n",
    "# c) (j >= i) or (k == m)\n",
    "# d) (k + m < j) or (3 - j >= k)\n",
    "# e) not (k > m)\n",
    "\n",
    "i = 1\n",
    "\n",
    "j = 2\n",
    "\n",
    "k = 3\n",
    "\n",
    "m = 2\n",
    "\n",
    "(i >= 1) and (j < 4)"
   ]
  },
  {
   "cell_type": "code",
   "execution_count": 35,
   "id": "713be5b2-92ee-4c77-90d7-82cff78b3a9e",
   "metadata": {},
   "outputs": [
    {
     "data": {
      "text/plain": [
       "False"
      ]
     },
     "execution_count": 35,
     "metadata": {},
     "output_type": "execute_result"
    }
   ],
   "source": [
    "(m <= 99) and (k < m)"
   ]
  },
  {
   "cell_type": "code",
   "execution_count": 36,
   "id": "ec69db9b-5b84-46d7-805f-0dfe4ff37340",
   "metadata": {},
   "outputs": [
    {
     "data": {
      "text/plain": [
       "True"
      ]
     },
     "execution_count": 36,
     "metadata": {},
     "output_type": "execute_result"
    }
   ],
   "source": [
    "(j >= i) or (k == m)"
   ]
  },
  {
   "cell_type": "code",
   "execution_count": 37,
   "id": "7a44dc29-fa06-4b85-bead-1585ebd48a12",
   "metadata": {},
   "outputs": [
    {
     "data": {
      "text/plain": [
       "False"
      ]
     },
     "execution_count": 37,
     "metadata": {},
     "output_type": "execute_result"
    }
   ],
   "source": [
    "(k + m < j) or (3 - j >= k)"
   ]
  },
  {
   "cell_type": "code",
   "execution_count": 38,
   "id": "a20edb35-6ec4-4a68-a93e-84a608f05b6a",
   "metadata": {},
   "outputs": [
    {
     "data": {
      "text/plain": [
       "False"
      ]
     },
     "execution_count": 38,
     "metadata": {},
     "output_type": "execute_result"
    }
   ],
   "source": [
    "not (k > m)"
   ]
  },
  {
   "cell_type": "markdown",
   "id": "bf515b72-c60e-43ee-bd24-eaa6387a13d6",
   "metadata": {},
   "source": [
    "Calculate Measures of Central Tendency - Native Python"
   ]
  },
  {
   "cell_type": "code",
   "execution_count": 39,
   "id": "916c464c-7b63-4983-8a4e-6b73aa77aec1",
   "metadata": {},
   "outputs": [
    {
     "data": {
      "text/plain": [
       "6"
      ]
     },
     "execution_count": 39,
     "metadata": {},
     "output_type": "execute_result"
    }
   ],
   "source": [
    "values = [47, 95, 88, 73, 88, 84]\n",
    "\n",
    "len(values) #count using built-in len()"
   ]
  },
  {
   "cell_type": "code",
   "execution_count": 40,
   "id": "30044615-b16d-4352-bfcf-1b5cb1ef3c19",
   "metadata": {},
   "outputs": [
    {
     "data": {
      "text/plain": [
       "475"
      ]
     },
     "execution_count": 40,
     "metadata": {},
     "output_type": "execute_result"
    }
   ],
   "source": [
    "sum(values) #sum using built-in sum()"
   ]
  },
  {
   "cell_type": "code",
   "execution_count": 41,
   "id": "038b7854-80b6-48ff-a42d-9a33c1c1da2f",
   "metadata": {},
   "outputs": [
    {
     "data": {
      "text/plain": [
       "79.16666666666667"
      ]
     },
     "execution_count": 41,
     "metadata": {},
     "output_type": "execute_result"
    }
   ],
   "source": [
    "sum(values) / len(values) #mean by dividing sum and len"
   ]
  },
  {
   "cell_type": "markdown",
   "id": "18e4b435-a535-4689-a31d-bdc284418858",
   "metadata": {},
   "source": [
    "Calculate Measures of Central Tendency - with Statistic Module"
   ]
  },
  {
   "cell_type": "code",
   "execution_count": 42,
   "id": "6e8e321e-ebbd-4594-b57d-564d25612454",
   "metadata": {},
   "outputs": [],
   "source": [
    "import statistics\n",
    "\n",
    "values = [47, 95, 88, 73, 88, 84]"
   ]
  },
  {
   "cell_type": "code",
   "execution_count": 43,
   "id": "af83789c-74eb-42a7-be0f-573fc77d29a2",
   "metadata": {},
   "outputs": [
    {
     "data": {
      "text/plain": [
       "79.16666666666667"
      ]
     },
     "execution_count": 43,
     "metadata": {},
     "output_type": "execute_result"
    }
   ],
   "source": [
    "statistics.mean(values)"
   ]
  },
  {
   "cell_type": "code",
   "execution_count": 44,
   "id": "0dab293e-7062-4c6d-94ab-2e3d76a36e1b",
   "metadata": {},
   "outputs": [
    {
     "data": {
      "text/plain": [
       "86.0"
      ]
     },
     "execution_count": 44,
     "metadata": {},
     "output_type": "execute_result"
    }
   ],
   "source": [
    "statistics.median(values)"
   ]
  },
  {
   "cell_type": "code",
   "execution_count": 45,
   "id": "5dc372bd-9126-4704-936f-c1641d48b536",
   "metadata": {},
   "outputs": [
    {
     "data": {
      "text/plain": [
       "88"
      ]
     },
     "execution_count": 45,
     "metadata": {},
     "output_type": "execute_result"
    }
   ],
   "source": [
    "statistics.mode(values)"
   ]
  },
  {
   "cell_type": "markdown",
   "id": "d3ce81c0-80e9-4ae3-a231-85e519fc666d",
   "metadata": {},
   "source": [
    "Custom Central Tendency"
   ]
  },
  {
   "cell_type": "code",
   "execution_count": 46,
   "id": "d0959e42-98c6-4d9f-84bc-c1108589b397",
   "metadata": {},
   "outputs": [
    {
     "data": {
      "text/plain": [
       "17"
      ]
     },
     "execution_count": 46,
     "metadata": {},
     "output_type": "execute_result"
    }
   ],
   "source": [
    "values = [35, 97, 364, 229, 86, 544, 322, 378, 366, 490, 263, 287, 351, 97, 333, 365, 389]\n",
    "\n",
    "len(values)"
   ]
  },
  {
   "cell_type": "code",
   "execution_count": 47,
   "id": "49258847-35a9-422b-b6ba-0bbe22167cbd",
   "metadata": {},
   "outputs": [
    {
     "data": {
      "text/plain": [
       "4996"
      ]
     },
     "execution_count": 47,
     "metadata": {},
     "output_type": "execute_result"
    }
   ],
   "source": [
    "sum(values)"
   ]
  },
  {
   "cell_type": "code",
   "execution_count": 48,
   "id": "1fcd82dd-eef3-4380-9cd8-d77d5df6e912",
   "metadata": {},
   "outputs": [
    {
     "data": {
      "text/plain": [
       "293.88235294117646"
      ]
     },
     "execution_count": 48,
     "metadata": {},
     "output_type": "execute_result"
    }
   ],
   "source": [
    "sum(values) / len(values)"
   ]
  },
  {
   "cell_type": "code",
   "execution_count": 49,
   "id": "dadf2cfd-683f-4299-a2eb-78fc9e20dec3",
   "metadata": {},
   "outputs": [
    {
     "data": {
      "text/plain": [
       "293.88235294117646"
      ]
     },
     "execution_count": 49,
     "metadata": {},
     "output_type": "execute_result"
    }
   ],
   "source": [
    "statistics.mean(values)"
   ]
  },
  {
   "cell_type": "code",
   "execution_count": 50,
   "id": "1ede9be2-b145-4103-bb8c-2c8619e6b740",
   "metadata": {},
   "outputs": [
    {
     "data": {
      "text/plain": [
       "333"
      ]
     },
     "execution_count": 50,
     "metadata": {},
     "output_type": "execute_result"
    }
   ],
   "source": [
    "statistics.median(values)"
   ]
  },
  {
   "cell_type": "code",
   "execution_count": 51,
   "id": "087eb7d4-e34c-4921-8a94-ca1fba93ab8f",
   "metadata": {},
   "outputs": [
    {
     "data": {
      "text/plain": [
       "97"
      ]
     },
     "execution_count": 51,
     "metadata": {},
     "output_type": "execute_result"
    }
   ],
   "source": [
    "statistics.mode(values)"
   ]
  },
  {
   "cell_type": "code",
   "execution_count": null,
   "id": "df6051db-3e86-4b9d-9392-a8142ed7a3ae",
   "metadata": {},
   "outputs": [],
   "source": []
  }
 ],
 "metadata": {
  "kernelspec": {
   "display_name": "Python 3 (ipykernel)",
   "language": "python",
   "name": "python3"
  },
  "language_info": {
   "codemirror_mode": {
    "name": "ipython",
    "version": 3
   },
   "file_extension": ".py",
   "mimetype": "text/x-python",
   "name": "python",
   "nbconvert_exporter": "python",
   "pygments_lexer": "ipython3",
   "version": "3.9.12"
  }
 },
 "nbformat": 4,
 "nbformat_minor": 5
}
